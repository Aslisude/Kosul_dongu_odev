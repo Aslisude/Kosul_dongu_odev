{
 "cells": [
  {
   "cell_type": "markdown",
   "id": "409f0f4a",
   "metadata": {},
   "source": [
    "**Ödev-1:** Kullanıcıdan maaş bilgisini istenir ve bu bilgiye göre maaşından ne kadar vergi kesileceğini hesaplanır. Kullanıcının geliri;\n",
    "\n",
    "1. 10000 ve altındaysa maaşından %5 kesinti olur.\n",
    "2. 25000 ve altındaysa maaşından %10 kesinti olur.\n",
    "3. 45000 ve altındaysa maaşından %25 kesinti olur.\n",
    "4. Diğer koşullarda %30 kesinti olur.\n",
    "\n",
    "Bu durumlara göre kullanıcının yeni maaşı yazdırılır."
   ]
  },
  {
   "cell_type": "code",
   "execution_count": 1,
   "id": "74af80a9-57e1-441b-9e38-7a57be6f6380",
   "metadata": {},
   "outputs": [
    {
     "name": "stdin",
     "output_type": "stream",
     "text": [
      "Maaş bilgisi giriniz: 5000\n"
     ]
    },
    {
     "name": "stdout",
     "output_type": "stream",
     "text": [
      "Maaşınıza yapılan vergi kesintisi: 250.0\n",
      "Yeni maaşınız: 4750.0\n"
     ]
    }
   ],
   "source": [
    "maas=float(input(\"Maaş bilgisi giriniz:\"))\n",
    "if maas<=10000:\n",
    "    kesinti_orani=0.05\n",
    "elif maas<=25000:\n",
    "    kesinti_orani=0.10\n",
    "elif maas<=45000:\n",
    "    kesinti_orani=0.25\n",
    "else:\n",
    "    kesinti_orani=0.30\n",
    "kesinti_miktari=maas*kesinti_orani\n",
    "yeni_maas=maas-kesinti_miktari\n",
    "print(\"Maaşınıza yapılan vergi kesintisi:\",kesinti_miktari)\n",
    "print(\"Yeni maaşınız:\",yeni_maas)"
   ]
  },
  {
   "cell_type": "markdown",
   "id": "b8b16900-8a35-47a0-b260-6e5e5c5f7521",
   "metadata": {},
   "source": [
    "**Ödev-2:** Kullanıcıdan kullancı adı ve şifre oluşturmasını istenir. Şifrenin uzunluğu 6 haneye ulaşmışsa hesabınız oluşturuldu mesajı alınır, 6 haneden azsa 6 haneli şifre oluşturulması gerektiğinin mesajı alınır.(Sadece koşul kullanılması yeterli.)"
   ]
  },
  {
   "cell_type": "code",
   "execution_count": 3,
   "id": "6acffe57",
   "metadata": {},
   "outputs": [
    {
     "name": "stdin",
     "output_type": "stream",
     "text": [
      "Kullanıcı adı oluşturun:  asli\n",
      "Şifre oluşturun:  12334\n"
     ]
    },
    {
     "name": "stdout",
     "output_type": "stream",
     "text": [
      "Şifreniz en az 6 haneli olmalıdır.\n"
     ]
    }
   ],
   "source": [
    "kullanici_adi = input(\"Kullanıcı adı oluşturun: \")\n",
    "sifre = input(\"Şifre oluşturun: \")\n",
    "\n",
    "if len(sifre) == 6:\n",
    "    print(\"Hesabınız oluşturuldu.\")\n",
    "else:\n",
    "    print(\"Şifreniz en az 6 haneli olmalıdır.\")"
   ]
  },
  {
   "cell_type": "markdown",
   "id": "aaccf11a",
   "metadata": {},
   "source": [
    "**Ödev-3:** Bir önceki örnek geliştirilir.\n",
    "\n",
    "1. Kullanıcı girdiği şifre 5 ve 10 hane arasında olmak zorunda.\n",
    "2. Eğer bu koşula uyuyorsa \"Hesabınız oluşturuldu.\" mesajı alır.\n",
    "3. Koşulu sağlamıyorsa \"Lütfen girdiniz şifre 5 haneden az 10 haneden fazla olmasın!\" uyarısı alır.\n",
    "4. Bunu oluştururken kullanıcı istediğimiz şartlarda şifre oluşturana kadar sormaya devam eder"
   ]
  },
  {
   "cell_type": "code",
   "execution_count": 1,
   "id": "039e50dc",
   "metadata": {},
   "outputs": [
    {
     "name": "stdin",
     "output_type": "stream",
     "text": [
      "Kullanıcı adı oluşturun:  aslisude\n",
      "Şifre oluşturun:  123\n"
     ]
    },
    {
     "name": "stdout",
     "output_type": "stream",
     "text": [
      "Lütfen girdiğiniz şifre 5 haneden az 10 haneden fazla olmasın!\n"
     ]
    },
    {
     "name": "stdin",
     "output_type": "stream",
     "text": [
      "Şifre oluşturun:  12345\n"
     ]
    },
    {
     "name": "stdout",
     "output_type": "stream",
     "text": [
      "Hesabınız oluşturuldu.\n"
     ]
    }
   ],
   "source": [
    "kullanici_adi = input(\"Kullanıcı adı oluşturun: \")\n",
    "\n",
    "while True:\n",
    "    sifre = input(\"Şifre oluşturun: \")\n",
    "    \n",
    "\n",
    "    if 5 <= len(sifre) <= 10:\n",
    "        print(\"Hesabınız oluşturuldu.\")\n",
    "        break\n",
    "    else:\n",
    "        print(\"Lütfen girdiğiniz şifre 5 haneden az 10 haneden fazla olmasın!\")"
   ]
  },
  {
   "cell_type": "markdown",
   "id": "8ba81863",
   "metadata": {},
   "source": [
    "**Ödev-4:** Kullanıcıdan isim ve şifre isteyeceğiz ve şifre girişi için üç hak verilir.\n",
    "\n",
    "1. Eğer önceden tanımlı şifre ile kullanıcıdan gelen şifre aynıysa \"Giriş yapıldı.\" yazar.\n",
    "2. Şifre girişi yanlışsa \"Yanlış şifre girildi!\" uyarısı verilsin ve üç yanlış denemede program biter.\n",
    "3. Tercihe göre kalan hak bilgisi verilir."
   ]
  },
  {
   "cell_type": "code",
   "execution_count": 2,
   "id": "ab56c992-dcc1-45ad-a9f5-90391ee20d40",
   "metadata": {},
   "outputs": [
    {
     "name": "stdin",
     "output_type": "stream",
     "text": [
      "Adınızı giriniz: aslisude\n",
      "Şifrenizi giriniz 123\n"
     ]
    },
    {
     "name": "stdout",
     "output_type": "stream",
     "text": [
      "Yanlış şifre girdiniz! Kalan hakkınız: 2\n"
     ]
    },
    {
     "name": "stdin",
     "output_type": "stream",
     "text": [
      "Şifrenizi giriniz 234\n"
     ]
    },
    {
     "name": "stdout",
     "output_type": "stream",
     "text": [
      "Yanlış şifre girdiniz! Kalan hakkınız: 1\n"
     ]
    },
    {
     "name": "stdin",
     "output_type": "stream",
     "text": [
      "Şifrenizi giriniz 123456\n"
     ]
    },
    {
     "name": "stdout",
     "output_type": "stream",
     "text": [
      "Giriş yapıldı!\n"
     ]
    }
   ],
   "source": [
    "isim=input(\"Adınızı giriniz:\")\n",
    "dogru_sifre=\"123456\"\n",
    "hak_sayisi=3\n",
    "while hak_sayisi>0:\n",
    "    sifre=input(\"Şifrenizi giriniz\")\n",
    "    if sifre==dogru_sifre:\n",
    "        print(\"Giriş yapıldı!\")\n",
    "        break\n",
    "    else:\n",
    "        hak_sayisi-=1\n",
    "        if hak_sayisi>0:\n",
    "            print(\"Yanlış şifre girdiniz! Kalan hakkınız:\",hak_sayisi)\n",
    "        else:\n",
    "            print(\"Yanlış şifre girdiniz, hakkınız kalmadı, program kapatılıyor!\")"
   ]
  }
 ],
 "metadata": {
  "kernelspec": {
   "display_name": "Python 3 (ipykernel)",
   "language": "python",
   "name": "python3"
  },
  "language_info": {
   "codemirror_mode": {
    "name": "ipython",
    "version": 3
   },
   "file_extension": ".py",
   "mimetype": "text/x-python",
   "name": "python",
   "nbconvert_exporter": "python",
   "pygments_lexer": "ipython3",
   "version": "3.11.7"
  }
 },
 "nbformat": 4,
 "nbformat_minor": 5
}
